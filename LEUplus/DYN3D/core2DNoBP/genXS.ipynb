{
 "cells": [
  {
   "cell_type": "code",
   "execution_count": 1,
   "metadata": {},
   "outputs": [],
   "source": [
    "from serpentTools.settings import rc\n",
    "from xsInterface.functions.main import Main\n",
    "from xsInterface.functions.dyn3d import DYN3D\n",
    "from pathlib import Path\n",
    "import yaml\n",
    "from string import Template\n",
    "import numpy as np\n",
    "rc['serpentVersion'] = '2.1.32'"
   ]
  },
  {
   "cell_type": "code",
   "execution_count": 2,
   "metadata": {},
   "outputs": [
    {
     "name": "stderr",
     "output_type": "stream",
     "text": [
      "SERPENT Serpent 2.2.1 found in ./serpent/assyw0i0e3-000_res.m, but version 2.1.32 is defined in settings\n",
      "  Attemping to read anyway. Please report strange behaviors/failures to developers.\n"
     ]
    },
    {
     "name": "stdout",
     "output_type": "stream",
     "text": [
      "... Reading control dict ...\n",
      "<inputs/controlDict>\n",
      "\n",
      "... Reading universe <48C2> ...\n",
      "... Reading coe/_res.m file for hisotry <his_nom> ...\n"
     ]
    },
    {
     "name": "stderr",
     "output_type": "stream",
     "text": [
      "SERPENT Serpent 2.2.1 found in ./serpent/assyw0i0e3-000_res.m, but version 2.1.32 is defined in settings\n",
      "  Attemping to read anyway. Please report strange behaviors/failures to developers.\n"
     ]
    },
    {
     "name": "stdout",
     "output_type": "stream",
     "text": [
      "... Reading universe <48C3> ...\n",
      "... Reading coe/_res.m file for hisotry <his_nom> ...\n"
     ]
    },
    {
     "name": "stderr",
     "output_type": "stream",
     "text": [
      "SERPENT Serpent 2.2.1 found in ./serpent/assyw0i0e3-000_res.m, but version 2.1.32 is defined in settings\n",
      "  Attemping to read anyway. Please report strange behaviors/failures to developers.\n"
     ]
    },
    {
     "name": "stdout",
     "output_type": "stream",
     "text": [
      "... Reading universe <49A1> ...\n",
      "... Reading coe/_res.m file for hisotry <his_nom> ...\n"
     ]
    },
    {
     "name": "stderr",
     "output_type": "stream",
     "text": [
      "SERPENT Serpent 2.2.1 found in ./serpent/assyw0i0e3-000_res.m, but version 2.1.32 is defined in settings\n",
      "  Attemping to read anyway. Please report strange behaviors/failures to developers.\n"
     ]
    },
    {
     "name": "stdout",
     "output_type": "stream",
     "text": [
      "... Reading universe <49B1> ...\n",
      "... Reading coe/_res.m file for hisotry <his_nom> ...\n"
     ]
    },
    {
     "name": "stderr",
     "output_type": "stream",
     "text": [
      "SERPENT Serpent 2.2.1 found in ./serpent/assyw0i0e3-000_res.m, but version 2.1.32 is defined in settings\n",
      "  Attemping to read anyway. Please report strange behaviors/failures to developers.\n"
     ]
    },
    {
     "name": "stdout",
     "output_type": "stream",
     "text": [
      "... Reading universe <49B2> ...\n",
      "... Reading coe/_res.m file for hisotry <his_nom> ...\n"
     ]
    },
    {
     "name": "stderr",
     "output_type": "stream",
     "text": [
      "SERPENT Serpent 2.2.1 found in ./serpent/assyw0i0e3-000_res.m, but version 2.1.32 is defined in settings\n",
      "  Attemping to read anyway. Please report strange behaviors/failures to developers.\n"
     ]
    },
    {
     "name": "stdout",
     "output_type": "stream",
     "text": [
      "... Reading universe <49B3> ...\n",
      "... Reading coe/_res.m file for hisotry <his_nom> ...\n"
     ]
    },
    {
     "name": "stderr",
     "output_type": "stream",
     "text": [
      "SERPENT Serpent 2.2.1 found in ./serpent/assyw0i0e3-000_res.m, but version 2.1.32 is defined in settings\n",
      "  Attemping to read anyway. Please report strange behaviors/failures to developers.\n"
     ]
    },
    {
     "name": "stdout",
     "output_type": "stream",
     "text": [
      "... Reading universe <49B4> ...\n",
      "... Reading coe/_res.m file for hisotry <his_nom> ...\n"
     ]
    },
    {
     "name": "stderr",
     "output_type": "stream",
     "text": [
      "SERPENT Serpent 2.2.1 found in ./serpent/assyw0i0e3-000_res.m, but version 2.1.32 is defined in settings\n",
      "  Attemping to read anyway. Please report strange behaviors/failures to developers.\n"
     ]
    },
    {
     "name": "stdout",
     "output_type": "stream",
     "text": [
      "... Reading universe <49B5> ...\n",
      "... Reading coe/_res.m file for hisotry <his_nom> ...\n"
     ]
    },
    {
     "name": "stderr",
     "output_type": "stream",
     "text": [
      "SERPENT Serpent 2.2.1 found in ./serpent/assyw0i0e3-000_res.m, but version 2.1.32 is defined in settings\n",
      "  Attemping to read anyway. Please report strange behaviors/failures to developers.\n"
     ]
    },
    {
     "name": "stdout",
     "output_type": "stream",
     "text": [
      "... Reading universe <49C1> ...\n",
      "... Reading coe/_res.m file for hisotry <his_nom> ...\n"
     ]
    },
    {
     "name": "stderr",
     "output_type": "stream",
     "text": [
      "SERPENT Serpent 2.2.1 found in ./serpent/assyw0i0e3-000_res.m, but version 2.1.32 is defined in settings\n",
      "  Attemping to read anyway. Please report strange behaviors/failures to developers.\n"
     ]
    },
    {
     "name": "stdout",
     "output_type": "stream",
     "text": [
      "... Reading universe <49C3> ...\n",
      "... Reading coe/_res.m file for hisotry <his_nom> ...\n"
     ]
    },
    {
     "name": "stderr",
     "output_type": "stream",
     "text": [
      "SERPENT Serpent 2.2.1 found in ./serpent/assyw0i0e3-000_res.m, but version 2.1.32 is defined in settings\n",
      "  Attemping to read anyway. Please report strange behaviors/failures to developers.\n"
     ]
    },
    {
     "name": "stdout",
     "output_type": "stream",
     "text": [
      "... Reading universe <49C5> ...\n",
      "... Reading coe/_res.m file for hisotry <his_nom> ...\n"
     ]
    },
    {
     "name": "stderr",
     "output_type": "stream",
     "text": [
      "SERPENT Serpent 2.2.1 found in ./serpent/assyw0i0e3-000_res.m, but version 2.1.32 is defined in settings\n",
      "  Attemping to read anyway. Please report strange behaviors/failures to developers.\n"
     ]
    },
    {
     "name": "stdout",
     "output_type": "stream",
     "text": [
      "... Reading universe <49C6> ...\n",
      "... Reading coe/_res.m file for hisotry <his_nom> ...\n"
     ]
    },
    {
     "name": "stderr",
     "output_type": "stream",
     "text": [
      "SERPENT Serpent 2.2.1 found in ./serpent/assyw0i0e3-000_res.m, but version 2.1.32 is defined in settings\n",
      "  Attemping to read anyway. Please report strange behaviors/failures to developers.\n"
     ]
    },
    {
     "name": "stdout",
     "output_type": "stream",
     "text": [
      "... Reading universe <49C7> ...\n",
      "... Reading coe/_res.m file for hisotry <his_nom> ...\n"
     ]
    },
    {
     "name": "stderr",
     "output_type": "stream",
     "text": [
      "SERPENT Serpent 2.2.1 found in ./serpent/assyw0i0e3-000_res.m, but version 2.1.32 is defined in settings\n",
      "  Attemping to read anyway. Please report strange behaviors/failures to developers.\n"
     ]
    },
    {
     "name": "stdout",
     "output_type": "stream",
     "text": [
      "... Reading universe <50A1> ...\n",
      "... Reading coe/_res.m file for hisotry <his_nom> ...\n"
     ]
    },
    {
     "name": "stderr",
     "output_type": "stream",
     "text": [
      "SERPENT Serpent 2.2.1 found in ./serpent/assyw0i0e3-000_res.m, but version 2.1.32 is defined in settings\n",
      "  Attemping to read anyway. Please report strange behaviors/failures to developers.\n"
     ]
    },
    {
     "name": "stdout",
     "output_type": "stream",
     "text": [
      "... Reading universe <50A2> ...\n",
      "... Reading coe/_res.m file for hisotry <his_nom> ...\n"
     ]
    },
    {
     "name": "stderr",
     "output_type": "stream",
     "text": [
      "SERPENT Serpent 2.2.1 found in ./serpent/assyw0i0e3-000_res.m, but version 2.1.32 is defined in settings\n",
      "  Attemping to read anyway. Please report strange behaviors/failures to developers.\n"
     ]
    },
    {
     "name": "stdout",
     "output_type": "stream",
     "text": [
      "... Reading universe <50B1> ...\n",
      "... Reading coe/_res.m file for hisotry <his_nom> ...\n"
     ]
    },
    {
     "name": "stderr",
     "output_type": "stream",
     "text": [
      "SERPENT Serpent 2.2.1 found in ./serpent/assyw0i0e3-000_res.m, but version 2.1.32 is defined in settings\n",
      "  Attemping to read anyway. Please report strange behaviors/failures to developers.\n"
     ]
    },
    {
     "name": "stdout",
     "output_type": "stream",
     "text": [
      "... Reading universe <50B2> ...\n",
      "... Reading coe/_res.m file for hisotry <his_nom> ...\n"
     ]
    },
    {
     "name": "stderr",
     "output_type": "stream",
     "text": [
      "SERPENT Serpent 2.2.1 found in ./serpent/assyw0i0e3-000_res.m, but version 2.1.32 is defined in settings\n",
      "  Attemping to read anyway. Please report strange behaviors/failures to developers.\n"
     ]
    },
    {
     "name": "stdout",
     "output_type": "stream",
     "text": [
      "... Reading universe <50B3> ...\n",
      "... Reading coe/_res.m file for hisotry <his_nom> ...\n"
     ]
    },
    {
     "name": "stderr",
     "output_type": "stream",
     "text": [
      "SERPENT Serpent 2.2.1 found in ./serpent/assyw0i0e3-000_res.m, but version 2.1.32 is defined in settings\n",
      "  Attemping to read anyway. Please report strange behaviors/failures to developers.\n"
     ]
    },
    {
     "name": "stdout",
     "output_type": "stream",
     "text": [
      "... Reading universe <50B4> ...\n",
      "... Reading coe/_res.m file for hisotry <his_nom> ...\n"
     ]
    },
    {
     "name": "stderr",
     "output_type": "stream",
     "text": [
      "SERPENT Serpent 2.2.1 found in ./serpent/assyw0i0e3-000_res.m, but version 2.1.32 is defined in settings\n",
      "  Attemping to read anyway. Please report strange behaviors/failures to developers.\n"
     ]
    },
    {
     "name": "stdout",
     "output_type": "stream",
     "text": [
      "... Reading universe <50B5> ...\n",
      "... Reading coe/_res.m file for hisotry <his_nom> ...\n"
     ]
    },
    {
     "name": "stderr",
     "output_type": "stream",
     "text": [
      "SERPENT Serpent 2.2.1 found in ./serpent/assyw0i0e3-000_res.m, but version 2.1.32 is defined in settings\n",
      "  Attemping to read anyway. Please report strange behaviors/failures to developers.\n"
     ]
    },
    {
     "name": "stdout",
     "output_type": "stream",
     "text": [
      "... Reading universe <50C1> ...\n",
      "... Reading coe/_res.m file for hisotry <his_nom> ...\n"
     ]
    },
    {
     "name": "stderr",
     "output_type": "stream",
     "text": [
      "SERPENT Serpent 2.2.1 found in ./serpent/assyw0i0e3-000_res.m, but version 2.1.32 is defined in settings\n",
      "  Attemping to read anyway. Please report strange behaviors/failures to developers.\n"
     ]
    },
    {
     "name": "stdout",
     "output_type": "stream",
     "text": [
      "... Reading universe <50C2> ...\n",
      "... Reading coe/_res.m file for hisotry <his_nom> ...\n"
     ]
    },
    {
     "name": "stderr",
     "output_type": "stream",
     "text": [
      "SERPENT Serpent 2.2.1 found in ./serpent/assyw0i0e3-000_res.m, but version 2.1.32 is defined in settings\n",
      "  Attemping to read anyway. Please report strange behaviors/failures to developers.\n"
     ]
    },
    {
     "name": "stdout",
     "output_type": "stream",
     "text": [
      "... Reading universe <50C4> ...\n",
      "... Reading coe/_res.m file for hisotry <his_nom> ...\n"
     ]
    },
    {
     "name": "stderr",
     "output_type": "stream",
     "text": [
      "SERPENT Serpent 2.2.1 found in ./serpent/assyw0i0e3-000_res.m, but version 2.1.32 is defined in settings\n",
      "  Attemping to read anyway. Please report strange behaviors/failures to developers.\n"
     ]
    },
    {
     "name": "stdout",
     "output_type": "stream",
     "text": [
      "... Reading universe <XXXX> ...\n",
      "... Reading coe/_res.m file for hisotry <his_nom> ...\n"
     ]
    },
    {
     "name": "stderr",
     "output_type": "stream",
     "text": [
      "SERPENT Serpent 2.2.1 found in ./serpent/assyw0i0e3-000_res.m, but version 2.1.32 is defined in settings\n",
      "  Attemping to read anyway. Please report strange behaviors/failures to developers.\n"
     ]
    },
    {
     "name": "stdout",
     "output_type": "stream",
     "text": [
      "... Reading universe <REFA> ...\n",
      "... Reading coe/_res.m file for hisotry <his_nom> ...\n"
     ]
    }
   ],
   "source": [
    "# ---------------------------------\n",
    "#    Setup xs-interface files\n",
    "# ---------------------------------\n",
    "\n",
    "# First load the unique assembly keys from the adjacent .yaml file\n",
    "coreDataPath = str(Path('./coreData.yaml'))\n",
    "with open(coreDataPath, 'r') as f:\n",
    "    coreData = yaml.safe_load(f)\n",
    "\n",
    "# Now make a mapping of assembly types in the serpent database to the unique assemblies in the core model\n",
    "# Currently just mapping everything to assyw0i0e3-000, i.e. a uniform 3% enriched core\n",
    "initialMapping = {}\n",
    "for assyKey in coreData['keys']:\n",
    "    initialMapping.update({assyKey: 'assyw0i0e3-000'})\n",
    "\n",
    "# Read the univs file template\n",
    "univs_template_path = Path('./inputs/univ_files/univs_template')\n",
    "with open(str(univs_template_path), 'r') as f:\n",
    "    templateLines = f.read()\n",
    "\n",
    "# Now set the file names in the corresponding univs files\n",
    "for assyKey, assyType in initialMapping.items():\n",
    "    with open(str( univs_template_path.parent / f\"univs{assyKey}\" ), 'w') as f:\n",
    "        f.write(Template(templateLines).substitute(assemblyType = assyType))\n",
    "\n",
    "indexMap, coreMap = coreData['indexmap'], coreData['coremap']\n",
    "coreMap = [[int(chanID) for chanID in row.split()] for row in coreMap.split('\\n')]\n",
    "indexMap = [[int(index) for index in row.split()] for row in indexMap.split('\\n')]\n",
    "mapping = []\n",
    "\n",
    "for i, row in enumerate(indexMap):\n",
    "    for j, mapIndex in enumerate(row):\n",
    "        assemblyTypeIndex = coreMap[i][j]\n",
    "        mapping.append([str(mapIndex), coreData['keys'][assemblyTypeIndex-1] + '0'])\n",
    "\n",
    "# Now, template the controlDict\n",
    "control_dict_template_path = Path('./inputs/controlDictTemplate')\n",
    "\n",
    "# Now write the assembly-channel identifications using the core map\n",
    "with open(str(control_dict_template_path), 'r') as f:\n",
    "    # Convert channel mapping to a string to be fed to the template\n",
    "    templateLines = f.read()\n",
    "    channelsMap = '\\n'.join([f\"{map[0]}  {map[1]}\" for map in mapping])\n",
    "\n",
    "    # Set all volumes to be the same = 20\n",
    "    volume = 20\n",
    "    volumesMap = '\\n'.join([f\"{map[0]}  {volume}\" for map in mapping])\n",
    "\n",
    "# Now write to controlDict\n",
    "\n",
    "with open(str(control_dict_template_path.parent / \"controlDict\"), 'w') as f:\n",
    "    f.write(Template(templateLines).substitute(channelsMapping = channelsMap,\n",
    "                                                volumesMapping = volumesMap))\n",
    "\n",
    "\n",
    "# Now read controlDict and write XS\n",
    "controlDict = str(Path(\"./inputs/controlDict\")) # --> see definition of controlDict in separate file\n",
    "xs = Main(controlDict)  # Read control dict\n",
    "xs.Read(readTemplate=True) # Read xs data and templates and populate data\n",
    "xs.Write() # Write data to txt files"
   ]
  },
  {
   "cell_type": "code",
   "execution_count": 6,
   "metadata": {},
   "outputs": [
    {
     "name": "stdout",
     "output_type": "stream",
     "text": [
      "... DYN3D Execution ... Start\n"
     ]
    },
    {
     "ename": "KeyboardInterrupt",
     "evalue": "",
     "output_type": "error",
     "traceback": [
      "\u001b[0;31m---------------------------------------------------------------------------\u001b[0m",
      "\u001b[0;31mKeyboardInterrupt\u001b[0m                         Traceback (most recent call last)",
      "Input \u001b[0;32mIn [6]\u001b[0m, in \u001b[0;36m<cell line: 17>\u001b[0;34m()\u001b[0m\n\u001b[1;32m      7\u001b[0m \u001b[38;5;66;03m# nchs = 257\u001b[39;00m\n\u001b[1;32m      8\u001b[0m \u001b[38;5;66;03m# states = {\u001b[39;00m\n\u001b[1;32m      9\u001b[0m \u001b[38;5;66;03m# 'time': [[0, 10]*1]*25\u001b[39;00m\n\u001b[0;32m   (...)\u001b[0m\n\u001b[1;32m     13\u001b[0m \u001b[38;5;66;03m#                     volManip={'infflx': 'divide'},\u001b[39;00m\n\u001b[1;32m     14\u001b[0m \u001b[38;5;66;03m#                     sph=None, adf=None)\u001b[39;00m\n\u001b[1;32m     15\u001b[0m xs\u001b[38;5;241m.\u001b[39mcore\u001b[38;5;241m.\u001b[39mng \u001b[38;5;241m=\u001b[39m \u001b[38;5;241m2\u001b[39m \u001b[38;5;66;03m# Have to set this manually for some reason?\u001b[39;00m\n\u001b[0;32m---> 17\u001b[0m \u001b[43mreslt\u001b[49m\u001b[38;5;241;43m.\u001b[39;49m\u001b[43mExecute\u001b[49m\u001b[43m(\u001b[49m\u001b[43m)\u001b[49m\n",
      "File \u001b[0;32m~/.local/lib/python3.9/site-packages/xsInterface-0.3.2-py3.9.egg/xsInterface/functions/dyn3d.py:165\u001b[0m, in \u001b[0;36mDYN3D.Execute\u001b[0;34m(self, printstatus)\u001b[0m\n\u001b[1;32m    161\u001b[0m \u001b[38;5;28mself\u001b[39m\u001b[38;5;241m.\u001b[39mxs\u001b[38;5;241m.\u001b[39mWrite()\n\u001b[1;32m    163\u001b[0m \u001b[38;5;66;03m# execute dyn3d\u001b[39;00m\n\u001b[1;32m    164\u001b[0m keff, prdFlx, surfflux, currents \u001b[38;5;241m=\u001b[39m\\\n\u001b[0;32m--> 165\u001b[0m     \u001b[43mexeDyn3D\u001b[49m\u001b[43m(\u001b[49m\u001b[38;5;28;43mself\u001b[39;49m\u001b[38;5;241;43m.\u001b[39;49m\u001b[43mcasedir\u001b[49m\u001b[43m,\u001b[49m\u001b[43m \u001b[49m\u001b[38;5;28;43mself\u001b[39;49m\u001b[38;5;241;43m.\u001b[39;49m\u001b[43mcasefile\u001b[49m\u001b[43m,\u001b[49m\u001b[43m \u001b[49m\u001b[38;5;28;43mself\u001b[39;49m\u001b[38;5;241;43m.\u001b[39;49m\u001b[43mexefile\u001b[49m\u001b[43m,\u001b[49m\u001b[43m \u001b[49m\u001b[43mprintstatus\u001b[49m\u001b[43m)\u001b[49m\n\u001b[1;32m    167\u001b[0m \u001b[38;5;66;03m# Match the flux values to their channels positions\u001b[39;00m\n\u001b[1;32m    168\u001b[0m \u001b[38;5;66;03m# prdFlx are not necessarily alligned with the right channels\u001b[39;00m\n\u001b[1;32m    169\u001b[0m \n\u001b[1;32m    170\u001b[0m \u001b[38;5;66;03m# save results\u001b[39;00m\n\u001b[1;32m    171\u001b[0m \u001b[38;5;28mself\u001b[39m\u001b[38;5;241m.\u001b[39mkeff \u001b[38;5;241m=\u001b[39m keff \n",
      "File \u001b[0;32m~/.local/lib/python3.9/site-packages/xsInterface-0.3.2-py3.9.egg/xsInterface/functions/dyn3d.py:576\u001b[0m, in \u001b[0;36mexeDyn3D\u001b[0;34m(casedir, casefile, exefile, printstatus)\u001b[0m\n\u001b[1;32m    574\u001b[0m \u001b[38;5;28;01mif\u001b[39;00m printstatus:\n\u001b[1;32m    575\u001b[0m     \u001b[38;5;28mprint\u001b[39m(\u001b[38;5;124m\"\u001b[39m\u001b[38;5;124m... DYN3D Execution ... Start\u001b[39m\u001b[38;5;124m\"\u001b[39m)\n\u001b[0;32m--> 576\u001b[0m exe_process \u001b[38;5;241m=\u001b[39m \u001b[43msubprocess\u001b[49m\u001b[38;5;241;43m.\u001b[39;49m\u001b[43mrun\u001b[49m\u001b[43m(\u001b[49m\u001b[43mexefile\u001b[49m\u001b[43m,\u001b[49m\u001b[43m \u001b[49m\u001b[43mshell\u001b[49m\u001b[38;5;241;43m=\u001b[39;49m\u001b[38;5;28;43;01mTrue\u001b[39;49;00m\u001b[43m,\u001b[49m\n\u001b[1;32m    577\u001b[0m \u001b[43m                               \u001b[49m\u001b[43mstdout\u001b[49m\u001b[38;5;241;43m=\u001b[39;49m\u001b[43msubprocess\u001b[49m\u001b[38;5;241;43m.\u001b[39;49m\u001b[43mPIPE\u001b[49m\u001b[43m)\u001b[49m   \n\u001b[1;32m    578\u001b[0m \u001b[38;5;28;01mif\u001b[39;00m exe_process\u001b[38;5;241m.\u001b[39mstderr \u001b[38;5;129;01mis\u001b[39;00m \u001b[38;5;28;01mNone\u001b[39;00m:\n\u001b[1;32m    579\u001b[0m     \u001b[38;5;28;01mif\u001b[39;00m printstatus:\n",
      "File \u001b[0;32m/usr/local/pace-apps/manual/packages/anaconda3/2022.05.0.1/lib/python3.9/subprocess.py:507\u001b[0m, in \u001b[0;36mrun\u001b[0;34m(input, capture_output, timeout, check, *popenargs, **kwargs)\u001b[0m\n\u001b[1;32m    505\u001b[0m \u001b[38;5;28;01mwith\u001b[39;00m Popen(\u001b[38;5;241m*\u001b[39mpopenargs, \u001b[38;5;241m*\u001b[39m\u001b[38;5;241m*\u001b[39mkwargs) \u001b[38;5;28;01mas\u001b[39;00m process:\n\u001b[1;32m    506\u001b[0m     \u001b[38;5;28;01mtry\u001b[39;00m:\n\u001b[0;32m--> 507\u001b[0m         stdout, stderr \u001b[38;5;241m=\u001b[39m \u001b[43mprocess\u001b[49m\u001b[38;5;241;43m.\u001b[39;49m\u001b[43mcommunicate\u001b[49m\u001b[43m(\u001b[49m\u001b[38;5;28;43minput\u001b[39;49m\u001b[43m,\u001b[49m\u001b[43m \u001b[49m\u001b[43mtimeout\u001b[49m\u001b[38;5;241;43m=\u001b[39;49m\u001b[43mtimeout\u001b[49m\u001b[43m)\u001b[49m\n\u001b[1;32m    508\u001b[0m     \u001b[38;5;28;01mexcept\u001b[39;00m TimeoutExpired \u001b[38;5;28;01mas\u001b[39;00m exc:\n\u001b[1;32m    509\u001b[0m         process\u001b[38;5;241m.\u001b[39mkill()\n",
      "File \u001b[0;32m/usr/local/pace-apps/manual/packages/anaconda3/2022.05.0.1/lib/python3.9/subprocess.py:1121\u001b[0m, in \u001b[0;36mPopen.communicate\u001b[0;34m(self, input, timeout)\u001b[0m\n\u001b[1;32m   1119\u001b[0m     \u001b[38;5;28mself\u001b[39m\u001b[38;5;241m.\u001b[39m_stdin_write(\u001b[38;5;28minput\u001b[39m)\n\u001b[1;32m   1120\u001b[0m \u001b[38;5;28;01melif\u001b[39;00m \u001b[38;5;28mself\u001b[39m\u001b[38;5;241m.\u001b[39mstdout:\n\u001b[0;32m-> 1121\u001b[0m     stdout \u001b[38;5;241m=\u001b[39m \u001b[38;5;28;43mself\u001b[39;49m\u001b[38;5;241;43m.\u001b[39;49m\u001b[43mstdout\u001b[49m\u001b[38;5;241;43m.\u001b[39;49m\u001b[43mread\u001b[49m\u001b[43m(\u001b[49m\u001b[43m)\u001b[49m\n\u001b[1;32m   1122\u001b[0m     \u001b[38;5;28mself\u001b[39m\u001b[38;5;241m.\u001b[39mstdout\u001b[38;5;241m.\u001b[39mclose()\n\u001b[1;32m   1123\u001b[0m \u001b[38;5;28;01melif\u001b[39;00m \u001b[38;5;28mself\u001b[39m\u001b[38;5;241m.\u001b[39mstderr:\n",
      "\u001b[0;31mKeyboardInterrupt\u001b[0m: "
     ]
    }
   ],
   "source": [
    "casedir = str(Path(\"./dyn3d\"))\n",
    "casefile = \"core2D\"\n",
    "exefile = \"./RUN_DYN3D.sh\"\n",
    "\n",
    "reslt = DYN3D(xs, casedir, casefile, exefile)\n",
    "              \n",
    "# nchs = 257\n",
    "# states = {\n",
    "# 'time': [[0, 10]*1]*25\n",
    "# }\n",
    "# xs.PopulateCoreData(attributes=None,\n",
    "#                     states=states,\n",
    "#                     volManip={'infflx': 'divide'},\n",
    "#                     sph=None, adf=None)\n",
    "xs.core.ng = 2 # Have to set this manually for some reason?\n",
    "\n",
    "reslt.Execute()"
   ]
  },
  {
   "cell_type": "code",
   "execution_count": 4,
   "metadata": {},
   "outputs": [
    {
     "data": {
      "text/plain": [
       "[array([[nan, nan]]),\n",
       " array([[nan, nan]]),\n",
       " array([[nan, nan]]),\n",
       " array([[nan, nan]]),\n",
       " array([[nan, nan]]),\n",
       " array([[nan, nan]]),\n",
       " array([[nan, nan]]),\n",
       " array([[nan, nan]]),\n",
       " array([[nan, nan]]),\n",
       " array([[nan, nan]]),\n",
       " array([[nan, nan]]),\n",
       " array([[nan, nan]]),\n",
       " array([[nan, nan]]),\n",
       " array([[nan, nan]]),\n",
       " array([[nan, nan]]),\n",
       " array([[nan, nan]]),\n",
       " array([[nan, nan]]),\n",
       " array([[nan, nan]]),\n",
       " array([[nan, nan]]),\n",
       " array([[nan, nan]]),\n",
       " array([[nan, nan]]),\n",
       " array([[nan, nan]]),\n",
       " array([[nan, nan]]),\n",
       " array([[nan, nan]]),\n",
       " array([[nan, nan]]),\n",
       " array([[nan, nan]]),\n",
       " array([[nan, nan]]),\n",
       " array([[nan, nan]]),\n",
       " array([[nan, nan]]),\n",
       " array([[nan, nan]]),\n",
       " array([[nan, nan]]),\n",
       " array([[nan, nan]]),\n",
       " array([[nan, nan]]),\n",
       " array([[nan, nan]]),\n",
       " array([[nan, nan]]),\n",
       " array([[nan, nan]]),\n",
       " array([[nan, nan]]),\n",
       " array([[nan, nan]]),\n",
       " array([[nan, nan]]),\n",
       " array([[nan, nan]]),\n",
       " array([[nan, nan]]),\n",
       " array([[nan, nan]]),\n",
       " array([[nan, nan]]),\n",
       " array([[nan, nan]]),\n",
       " array([[nan, nan]]),\n",
       " array([[nan, nan]]),\n",
       " array([[nan, nan]]),\n",
       " array([[nan, nan]]),\n",
       " array([[nan, nan]]),\n",
       " array([[nan, nan]]),\n",
       " array([[nan, nan]]),\n",
       " array([[nan, nan]]),\n",
       " array([[nan, nan]]),\n",
       " array([[nan, nan]]),\n",
       " array([[nan, nan]]),\n",
       " array([[nan, nan]]),\n",
       " array([[nan, nan]]),\n",
       " array([[nan, nan]]),\n",
       " array([[nan, nan]]),\n",
       " array([[nan, nan]]),\n",
       " array([[nan, nan]]),\n",
       " array([[nan, nan]]),\n",
       " array([[nan, nan]]),\n",
       " array([[nan, nan]]),\n",
       " array([[nan, nan]]),\n",
       " array([[nan, nan]]),\n",
       " array([[nan, nan]]),\n",
       " array([[nan, nan]]),\n",
       " array([[nan, nan]]),\n",
       " array([[nan, nan]]),\n",
       " array([[nan, nan]]),\n",
       " array([[nan, nan]]),\n",
       " array([[nan, nan]]),\n",
       " array([[nan, nan]]),\n",
       " array([[nan, nan]]),\n",
       " array([[nan, nan]]),\n",
       " array([[nan, nan]]),\n",
       " array([[nan, nan]]),\n",
       " array([[nan, nan]]),\n",
       " array([[nan, nan]]),\n",
       " array([[nan, nan]]),\n",
       " array([[nan, nan]]),\n",
       " array([[nan, nan]]),\n",
       " array([[nan, nan]]),\n",
       " array([[nan, nan]]),\n",
       " array([[nan, nan]]),\n",
       " array([[nan, nan]]),\n",
       " array([[nan, nan]]),\n",
       " array([[nan, nan]]),\n",
       " array([[nan, nan]]),\n",
       " array([[nan, nan]]),\n",
       " array([[nan, nan]]),\n",
       " array([[nan, nan]]),\n",
       " array([[nan, nan]]),\n",
       " array([[nan, nan]]),\n",
       " array([[nan, nan]]),\n",
       " array([[nan, nan]]),\n",
       " array([[nan, nan]]),\n",
       " array([[nan, nan]]),\n",
       " array([[nan, nan]]),\n",
       " array([[nan, nan]]),\n",
       " array([[nan, nan]]),\n",
       " array([[nan, nan]]),\n",
       " array([[nan, nan]]),\n",
       " array([[nan, nan]]),\n",
       " array([[nan, nan]]),\n",
       " array([[nan, nan]]),\n",
       " array([[nan, nan]]),\n",
       " array([[nan, nan]]),\n",
       " array([[nan, nan]]),\n",
       " array([[nan, nan]]),\n",
       " array([[nan, nan]]),\n",
       " array([[nan, nan]]),\n",
       " array([[nan, nan]]),\n",
       " array([[nan, nan]]),\n",
       " array([[nan, nan]]),\n",
       " array([[nan, nan]]),\n",
       " array([[nan, nan]]),\n",
       " array([[nan, nan]]),\n",
       " array([[nan, nan]]),\n",
       " array([[nan, nan]]),\n",
       " array([[nan, nan]]),\n",
       " array([[nan, nan]]),\n",
       " array([[nan, nan]]),\n",
       " array([[nan, nan]]),\n",
       " array([[nan, nan]]),\n",
       " array([[nan, nan]]),\n",
       " array([[nan, nan]]),\n",
       " array([[nan, nan]]),\n",
       " array([[nan, nan]]),\n",
       " array([[nan, nan]]),\n",
       " array([[nan, nan]]),\n",
       " array([[nan, nan]]),\n",
       " array([[nan, nan]]),\n",
       " array([[nan, nan]]),\n",
       " array([[nan, nan]]),\n",
       " array([[nan, nan]]),\n",
       " array([[nan, nan]]),\n",
       " array([[nan, nan]]),\n",
       " array([[nan, nan]]),\n",
       " array([[nan, nan]]),\n",
       " array([[nan, nan]]),\n",
       " array([[nan, nan]]),\n",
       " array([[nan, nan]]),\n",
       " array([[nan, nan]]),\n",
       " array([[nan, nan]]),\n",
       " array([[nan, nan]]),\n",
       " array([[nan, nan]]),\n",
       " array([[nan, nan]]),\n",
       " array([[nan, nan]]),\n",
       " array([[nan, nan]]),\n",
       " array([[nan, nan]]),\n",
       " array([[nan, nan]]),\n",
       " array([[nan, nan]]),\n",
       " array([[nan, nan]]),\n",
       " array([[nan, nan]]),\n",
       " array([[nan, nan]]),\n",
       " array([[nan, nan]]),\n",
       " array([[nan, nan]]),\n",
       " array([[nan, nan]]),\n",
       " array([[nan, nan]]),\n",
       " array([[nan, nan]]),\n",
       " array([[nan, nan]]),\n",
       " array([[nan, nan]]),\n",
       " array([[nan, nan]]),\n",
       " array([[nan, nan]]),\n",
       " array([[nan, nan]]),\n",
       " array([[nan, nan]]),\n",
       " array([[nan, nan]]),\n",
       " array([[nan, nan]]),\n",
       " array([[nan, nan]]),\n",
       " array([[nan, nan]]),\n",
       " array([[nan, nan]]),\n",
       " array([[nan, nan]]),\n",
       " array([[nan, nan]]),\n",
       " array([[nan, nan]]),\n",
       " array([[nan, nan]]),\n",
       " array([[nan, nan]]),\n",
       " array([[nan, nan]]),\n",
       " array([[nan, nan]]),\n",
       " array([[nan, nan]]),\n",
       " array([[nan, nan]]),\n",
       " array([[nan, nan]]),\n",
       " array([[nan, nan]]),\n",
       " array([[nan, nan]]),\n",
       " array([[nan, nan]]),\n",
       " array([[nan, nan]]),\n",
       " array([[nan, nan]]),\n",
       " array([[nan, nan]]),\n",
       " array([[nan, nan]]),\n",
       " array([[nan, nan]]),\n",
       " array([[nan, nan]]),\n",
       " array([[nan, nan]]),\n",
       " array([[nan, nan]]),\n",
       " array([[nan, nan]]),\n",
       " array([[nan, nan]]),\n",
       " array([[nan, nan]]),\n",
       " array([[nan, nan]]),\n",
       " array([[nan, nan]]),\n",
       " array([[nan, nan]]),\n",
       " array([[nan, nan]]),\n",
       " array([[nan, nan]]),\n",
       " array([[nan, nan]]),\n",
       " array([[nan, nan]]),\n",
       " array([[nan, nan]]),\n",
       " array([[nan, nan]]),\n",
       " array([[nan, nan]]),\n",
       " array([[nan, nan]]),\n",
       " array([[nan, nan]]),\n",
       " array([[nan, nan]]),\n",
       " array([[nan, nan]]),\n",
       " array([[nan, nan]]),\n",
       " array([[nan, nan]]),\n",
       " array([[nan, nan]]),\n",
       " array([[nan, nan]]),\n",
       " array([[nan, nan]]),\n",
       " array([[nan, nan]]),\n",
       " array([[nan, nan]]),\n",
       " array([[nan, nan]]),\n",
       " array([[nan, nan]]),\n",
       " array([[nan, nan]]),\n",
       " array([[nan, nan]]),\n",
       " array([[nan, nan]]),\n",
       " array([[nan, nan]]),\n",
       " array([[nan, nan]]),\n",
       " array([[nan, nan]]),\n",
       " array([[nan, nan]]),\n",
       " array([[nan, nan]]),\n",
       " array([[nan, nan]]),\n",
       " array([[nan, nan]]),\n",
       " array([[nan, nan]]),\n",
       " array([[nan, nan]]),\n",
       " array([[nan, nan]]),\n",
       " array([[nan, nan]]),\n",
       " array([[nan, nan]]),\n",
       " array([[nan, nan]]),\n",
       " array([[nan, nan]]),\n",
       " array([[nan, nan]]),\n",
       " array([[nan, nan]]),\n",
       " array([[nan, nan]]),\n",
       " array([[nan, nan]]),\n",
       " array([[nan, nan]]),\n",
       " array([[nan, nan]]),\n",
       " array([[nan, nan]]),\n",
       " array([[nan, nan]]),\n",
       " array([[nan, nan]]),\n",
       " array([[nan, nan]]),\n",
       " array([[nan, nan]]),\n",
       " array([[nan, nan]]),\n",
       " array([[nan, nan]]),\n",
       " array([[nan, nan]]),\n",
       " array([[nan, nan]]),\n",
       " array([[nan, nan]]),\n",
       " array([[nan, nan]]),\n",
       " array([[nan, nan]]),\n",
       " array([[nan, nan]]),\n",
       " array([[nan, nan]])]"
      ]
     },
     "execution_count": 4,
     "metadata": {},
     "output_type": "execute_result"
    }
   ],
   "source": [
    "\n",
    "chid = '1'\n",
    "iters = None\n",
    "# reslt.PlotFluxes(x_values, iters, chid)\n",
    "reslt.flux\n",
    "# reslt.GetChannelFlux('1')\n"
   ]
  },
  {
   "cell_type": "code",
   "execution_count": 5,
   "metadata": {},
   "outputs": [
    {
     "data": {
      "image/png": "[encoded data removed]",
      "text/plain": [
       "<Figure size 1800x1200 with 2 Axes>"
      ]
     },
     "metadata": {
      "needs_background": "light"
     },
     "output_type": "display_data"
    }
   ],
   "source": [
    "resxs = reslt.xs\n",
    "resxs.SlicePlot(reslt.flux, layer=0, markersize=160, spacesize=60.0,\n",
    "         textsize=5, textcolor='w', textweight=\"bold\", precision=\".2f\", \n",
    "         edge=2.0, norm=0.01, label=\"flux\")"
   ]
  },
  {
   "cell_type": "code",
   "execution_count": null,
   "metadata": {},
   "outputs": [],
   "source": []
  }
 ],
 "metadata": {
  "kernelspec": {
   "display_name": "base",
   "language": "python",
   "name": "python3"
  },
  "language_info": {
   "codemirror_mode": {
    "name": "ipython",
    "version": 3
   },
   "file_extension": ".py",
   "mimetype": "text/x-python",
   "name": "python",
   "nbconvert_exporter": "python",
   "pygments_lexer": "ipython3",
   "version": "3.9.12"
  }
 },
 "nbformat": 4,
 "nbformat_minor": 2
}
